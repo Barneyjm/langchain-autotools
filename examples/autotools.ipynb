{
 "cells": [
  {
   "attachments": {},
   "cell_type": "markdown",
   "id": "9e9b7651",
   "metadata": {},
   "source": [
    "# How to use AutoTools to make a dynamic toolkit\n",
    "\n",
    "AutoTools allows you to wrap any SDK client that exposes various CRUD operations (get, update, create, delete) and turn them into LLM-enabled toolkits without having to write a custom toolkit.\n",
    "\n",
    "There are two core aspects to AnySDK:\n",
    "1. AutoToolWrapper -- wraps the SDK you pass in\n",
    "2. CrudControls -- allows you to control the access an agent has to Create, Read, Update, Delete verbs.\n",
    "\n",
    "As of writing, using Anthropic's Claude3 Sonnet model in this notebook will cost less than USD 0.50 to complete."
   ]
  },
  {
   "cell_type": "markdown",
   "id": "174d3a24",
   "metadata": {},
   "source": [
    "First, we'll create a client SDK. Let's use AWS's `boto3` library. Ensure you have your credentials available or set them here. "
   ]
  },
  {
   "cell_type": "code",
   "execution_count": 1,
   "id": "569e0fc3",
   "metadata": {},
   "outputs": [],
   "source": [
    "import getpass\n",
    "import os\n",
    "\n",
    "os.environ[\"AWS_ACCESS_KEY_ID\"] = getpass.getpass(prompt=\"AWS Access Key ID: \")\n",
    "os.environ[\"AWS_SECRET_ACCESS_KEY\"] = getpass.getpass(prompt=\"AWS Secret Access Key: \")\n",
    "os.environ[\"AWS_DEFAULT_REGION\"] = \"us-east-1\""
   ]
  },
  {
   "cell_type": "markdown",
   "id": "8f346981",
   "metadata": {},
   "source": [
    "Let's validate that your S3 client is able to make an API call. This `list_buckets` command should match how many buckets are in your account."
   ]
  },
  {
   "cell_type": "code",
   "execution_count": 2,
   "id": "c16410ee",
   "metadata": {},
   "outputs": [
    {
     "name": "stdout",
     "output_type": "stream",
     "text": [
      "9\n"
     ]
    }
   ],
   "source": [
    "import boto3\n",
    "\n",
    "s3 = boto3.client(\"s3\")\n",
    "buckets = s3.list_buckets()\n",
    "print(len(buckets[\"Buckets\"]))"
   ]
  },
  {
   "cell_type": "markdown",
   "id": "daefde93",
   "metadata": {},
   "source": [
    "Now, we can pass this client into AutoToolWrapper to create the toolkit. The callable functions within the SDK will become available as tools within the `autotool.operations` object.\n",
    "\n",
    "_NOTE_ If your SDK has many callable functions, your tool list could exceed your model's context length. Use CrudControls to limit the tools your Agent has access to.\n",
    "\n",
    "To demonstrate this, we're limiting the `read_list` parameter to a single function, `list_buckets`. You can add more functions by using a prefix (ie, `list` or multiple values by using a comma separated list: `get,read,list`)"
   ]
  },
  {
   "cell_type": "code",
   "execution_count": 3,
   "id": "176f5e2a",
   "metadata": {},
   "outputs": [
    {
     "name": "stdout",
     "output_type": "stream",
     "text": [
      "['list_buckets']\n"
     ]
    }
   ],
   "source": [
    "from langchain_autotools import AutoToolWrapper, CrudControls\n",
    "\n",
    "client = {\"client\": s3}\n",
    "crud_controls = CrudControls(\n",
    "    read_list=\"list_buckets\",\n",
    ")\n",
    "\n",
    "autotool = AutoToolWrapper(client=client, crud_controls=crud_controls)\n",
    "\n",
    "print([tool.name for tool in autotool.operations])"
   ]
  },
  {
   "attachments": {},
   "cell_type": "markdown",
   "id": "50b602e4",
   "metadata": {},
   "source": [
    "Since `autotool.operations` is a list of tools, we can pass that into an Agent upon initialization and use them."
   ]
  },
  {
   "cell_type": "code",
   "execution_count": 4,
   "id": "8cd49199",
   "metadata": {},
   "outputs": [
    {
     "name": "stdout",
     "output_type": "stream",
     "text": [
      "================================\u001b[1m System Message \u001b[0m================================\n",
      "\n",
      "Respond to the human as helpfully and accurately as possible. You have access to the following tools:\n",
      "\n",
      "\u001b[33;1m\u001b[1;3m{tools}\u001b[0m\n",
      "\n",
      "Use a json blob to specify a tool by providing an action key (tool name) and an action_input key (tool input).\n",
      "\n",
      "Valid \"action\" values: \"Final Answer\" or \u001b[33;1m\u001b[1;3m{tool_names}\u001b[0m\n",
      "\n",
      "Provide only ONE action per $JSON_BLOB, as shown:\n",
      "\n",
      "```\n",
      "{\n",
      "  \"action\": $TOOL_NAME,\n",
      "  \"action_input\": $INPUT\n",
      "}\n",
      "```\n",
      "\n",
      "Follow this format:\n",
      "\n",
      "Question: input question to answer\n",
      "Thought: consider previous and subsequent steps\n",
      "Action:\n",
      "```\n",
      "$JSON_BLOB\n",
      "```\n",
      "Observation: action result\n",
      "... (repeat Thought/Action/Observation N times)\n",
      "Thought: I know what to respond\n",
      "Action:\n",
      "```\n",
      "{\n",
      "  \"action\": \"Final Answer\",\n",
      "  \"action_input\": \"Final response to human\"\n",
      "}\n",
      "\n",
      "Begin! Reminder to ALWAYS respond with a valid json blob of a single action. Use tools if necessary. Respond directly if appropriate. Format is Action:```$JSON_BLOB```then Observation\n",
      "\n",
      "=============================\u001b[1m Messages Placeholder \u001b[0m=============================\n",
      "\n",
      "\u001b[33;1m\u001b[1;3m{chat_history}\u001b[0m\n",
      "\n",
      "================================\u001b[1m Human Message \u001b[0m=================================\n",
      "\n",
      "\u001b[33;1m\u001b[1;3m{input}\u001b[0m\n",
      "\n",
      "\u001b[33;1m\u001b[1;3m{agent_scratchpad}\u001b[0m\n",
      " (reminder to respond in a JSON blob no matter what)\n"
     ]
    }
   ],
   "source": [
    "from langchain import hub\n",
    "\n",
    "# Get the prompt to use - you can modify this!\n",
    "prompt = hub.pull(\"hwchase17/structured-chat-agent\")\n",
    "prompt.pretty_print()"
   ]
  },
  {
   "cell_type": "code",
   "execution_count": 5,
   "id": "bc7a3e88",
   "metadata": {},
   "outputs": [],
   "source": [
    "# Now we'll set the Anthropic API key\n",
    "os.environ[\"ANTHROPIC_API_KEY\"] = getpass.getpass(prompt=\"Anthropic API Key: \")"
   ]
  },
  {
   "cell_type": "markdown",
   "id": "9861669a",
   "metadata": {},
   "source": [
    "With your API key set, we'll be able to create the AgentExecutor."
   ]
  },
  {
   "cell_type": "code",
   "execution_count": 6,
   "id": "847bb9b6",
   "metadata": {},
   "outputs": [],
   "source": [
    "from langchain.agents import AgentExecutor, create_structured_chat_agent\n",
    "from langchain_anthropic import ChatAnthropic\n",
    "\n",
    "llm = ChatAnthropic(model=\"claude-3-sonnet-20240229\", temperature=0)\n",
    "\n",
    "agent = create_structured_chat_agent(llm, autotool.operations, prompt)\n",
    "agent_executor = AgentExecutor(\n",
    "    agent=agent,\n",
    "    tools=autotool.operations,\n",
    "    verbose=True,\n",
    "    handle_parsing_errors=True,\n",
    "    max_iterations=3,\n",
    ")"
   ]
  },
  {
   "attachments": {},
   "cell_type": "markdown",
   "id": "6a72f276",
   "metadata": {},
   "source": [
    "Now we can use this agent to perform functions for us using the configured AWS `boto3` client! Let's ask the Agent how many buckets we have."
   ]
  },
  {
   "cell_type": "code",
   "execution_count": 7,
   "id": "074e5e75",
   "metadata": {},
   "outputs": [
    {
     "name": "stdout",
     "output_type": "stream",
     "text": [
      "\n",
      "\n",
      "\u001b[1m> Entering new AgentExecutor chain...\u001b[0m\n",
      "\u001b[32;1m\u001b[1;3mAction:\n",
      "```json\n",
      "{\n",
      "  \"action\": \"list_buckets\",\n",
      "  \"action_input\": \"\"\n",
      "}\n",
      "```\n",
      "\u001b[0m\u001b[36;1m\u001b[1;3m{\"ResponseMetadata\": {\"RequestId\": \"QRQCCSP8W2CCF86G\", \"HostId\": \"5ZBd6lyHgpqJ4eQMYUHwFN/0lKvpJi516pNiyOQBqSPI/XvelezWtjZ9UcCxUra5xj4ake04Ulc=\", \"HTTPStatusCode\": 200, \"HTTPHeaders\": {\"x-amz-id-2\": \"5ZBd6lyHgpqJ4eQMYUHwFN/0lKvpJi516pNiyOQBqSPI/XvelezWtjZ9UcCxUra5xj4ake04Ulc=\", \"x-amz-request-id\": \"QRQCCSP8W2CCF86G\", \"date\": \"Tue, 14 May 2024 15:20:51 GMT\", \"content-type\": \"application/xml\", \"transfer-encoding\": \"chunked\", \"server\": \"AmazonS3\"}, \"RetryAttempts\": 0}, \"Buckets\": [{\"Name\": \"amplify-carboncounting-dev-100223-deployment\", \"CreationDate\": \"2019-10-26 14:02:32+00:00\"}, {\"Name\": \"casestudypro-api-dev-serverlessdeploymentbucket-1k1jafqbcjdzq\", \"CreationDate\": \"2022-02-19 19:12:41+00:00\"}, {\"Name\": \"casestudypro-api-prod-serverlessdeploymentbucket-12tvawyzsxx2l\", \"CreationDate\": \"2021-10-27 15:41:09+00:00\"}, {\"Name\": \"casestudypro-prod\", \"CreationDate\": \"2021-10-27 15:48:36+00:00\"}, {\"Name\": \"cdk-hnb659fds-assets-471227800442-us-east-1\", \"CreationDate\": \"2023-02-06 04:17:05+00:00\"}, {\"Name\": \"directus-poc-james-test-demo\", \"CreationDate\": \"2020-07-01 14:25:55+00:00\"}, {\"Name\": \"southendsolutions.com\", \"CreationDate\": \"2019-07-18 12:21:10+00:00\"}, {\"Name\": \"sstbootstrap-useast124d14e4b-1i0kglb211bt8\", \"CreationDate\": \"2023-02-06 04:18:10+00:00\"}, {\"Name\": \"textract-console-us-east-1-21bd280b-845a-437e-8d99-016bf143cc45\", \"CreationDate\": \"2022-02-19 16:37:41+00:00\"}], \"Owner\": {\"DisplayName\": \"southendsolutionsclt\", \"ID\": \"b44a69184b9026626d070ed2156ee822603132586d3e49bc83824658b25b5177\"}}\u001b[0m\u001b[32;1m\u001b[1;3mAction:\n",
      "```json\n",
      "{\n",
      "  \"action\": \"Final Answer\",\n",
      "  \"action_input\": \"Based on the output from the list_buckets tool, you have 9 S3 buckets.\"\n",
      "}\n",
      "```\u001b[0m\n",
      "\n",
      "\u001b[1m> Finished chain.\u001b[0m\n"
     ]
    },
    {
     "data": {
      "text/plain": [
       "{'input': \"How many S3 buckets do I have? Pass an empty string as the 'action_input'.\",\n",
       " 'output': 'Based on the output from the list_buckets tool, you have 9 S3 buckets.'}"
      ]
     },
     "execution_count": 7,
     "metadata": {},
     "output_type": "execute_result"
    }
   ],
   "source": [
    "agent_executor.invoke(\n",
    "    {\n",
    "        \"input\": \"How many S3 buckets do I have? Pass an empty string as the 'action_input'.\"\n",
    "    }\n",
    ")"
   ]
  },
  {
   "cell_type": "markdown",
   "id": "94581493",
   "metadata": {},
   "source": [
    "Now, let's have our Agent create a bucket. We'll need to modify the CrudControls to include the `create_bucket` function from the `boto3` SDK.\n",
    "\n",
    "We'll also need to enable the create actions as well by setting `create` to `True`.\n",
    "\n",
    "_WARNING_ This will create a bucket in your account! (Buckets are free to create, so long as you don't store data in them.)"
   ]
  },
  {
   "cell_type": "code",
   "execution_count": 8,
   "id": "ef14f9b7",
   "metadata": {},
   "outputs": [
    {
     "name": "stdout",
     "output_type": "stream",
     "text": [
      "['create_bucket', 'list_buckets']\n"
     ]
    }
   ],
   "source": [
    "from langchain_autotools import AutoToolWrapper, CrudControls\n",
    "\n",
    "client = {\"client\": s3}\n",
    "crud_controls = CrudControls(\n",
    "    read_list=\"list_buckets\", create=True, create_list=\"create_bucket\"\n",
    ")\n",
    "\n",
    "autotool = AutoToolWrapper(client=client, crud_controls=crud_controls)\n",
    "\n",
    "print([tool.name for tool in autotool.operations])"
   ]
  },
  {
   "cell_type": "markdown",
   "id": "e0f9afbc",
   "metadata": {},
   "source": [
    "More complicated tools often require more complex logic which requires more capable models. To create a bucket, we'll use the Sonnet model available from Anthropic."
   ]
  },
  {
   "cell_type": "code",
   "execution_count": 9,
   "id": "d3a645d1",
   "metadata": {},
   "outputs": [],
   "source": [
    "from langchain.agents import AgentExecutor, create_structured_chat_agent\n",
    "from langchain_anthropic import ChatAnthropic\n",
    "\n",
    "llm = ChatAnthropic(model=\"claude-3-sonnet-20240229\", temperature=0)\n",
    "\n",
    "agent = create_structured_chat_agent(llm, anysdk.operations, prompt)\n",
    "agent_executor = AgentExecutor(\n",
    "    agent=agent,\n",
    "    tools=anysdk.operations,\n",
    "    verbose=True,\n",
    "    handle_parsing_errors=True,\n",
    "    max_iterations=3,\n",
    ")"
   ]
  },
  {
   "cell_type": "code",
   "execution_count": 10,
   "id": "20b73a2f",
   "metadata": {},
   "outputs": [
    {
     "name": "stdout",
     "output_type": "stream",
     "text": [
      "\n",
      "\n",
      "\u001b[1m> Entering new AgentExecutor chain...\u001b[0m\n",
      "\u001b[32;1m\u001b[1;3mAction:\n",
      "```json\n",
      "{\n",
      "  \"action\": \"create_bucket\",\n",
      "  \"action_input\": {\n",
      "    \"Bucket\": \"my-test-bucket-5246662\"\n",
      "  }\n",
      "}\n",
      "```\n",
      "\u001b[0m\u001b[36;1m\u001b[1;3m{\"ResponseMetadata\": {\"RequestId\": \"J5S30XDPWG0EH4WF\", \"HostId\": \"3t1u5xb73plbtNyEXHKqy5LHSkXg/eKN9smbSpi52hiIbm5OE0eBZzsR/vpLtEhUoTp3i3eH3m+yAi38hknp48LPzb59u0VFiWB9niPJDak=\", \"HTTPStatusCode\": 200, \"HTTPHeaders\": {\"x-amz-id-2\": \"3t1u5xb73plbtNyEXHKqy5LHSkXg/eKN9smbSpi52hiIbm5OE0eBZzsR/vpLtEhUoTp3i3eH3m+yAi38hknp48LPzb59u0VFiWB9niPJDak=\", \"x-amz-request-id\": \"J5S30XDPWG0EH4WF\", \"date\": \"Tue, 14 May 2024 15:22:12 GMT\", \"location\": \"/my-test-bucket-5246662\", \"server\": \"AmazonS3\", \"content-length\": \"0\"}, \"RetryAttempts\": 0}, \"Location\": \"/my-test-bucket-5246662\"}\u001b[0m\u001b[32;1m\u001b[1;3mAction:\n",
      "```json\n",
      "{\n",
      "  \"action\": \"Final Answer\",\n",
      "  \"action_input\": \"The bucket 'my-test-bucket-5246662' was successfully created in your AWS account.\"\n",
      "}\n",
      "```\u001b[0m\n",
      "\n",
      "\u001b[1m> Finished chain.\u001b[0m\n"
     ]
    },
    {
     "data": {
      "text/plain": [
       "{'input': \"Create a bucket named 'my-test-bucket-5246662' in my account.\",\n",
       " 'output': \"The bucket 'my-test-bucket-5246662' was successfully created in your AWS account.\"}"
      ]
     },
     "execution_count": 10,
     "metadata": {},
     "output_type": "execute_result"
    }
   ],
   "source": [
    "import random\n",
    "\n",
    "rand = str(random.randint(0, 10000000))\n",
    "agent_executor.invoke(\n",
    "    {\"input\": f\"Create a bucket named 'my-test-bucket-{rand}' in my account.\"}\n",
    ")"
   ]
  },
  {
   "cell_type": "markdown",
   "id": "bc3ce811",
   "metadata": {},
   "source": [
    "To clean up the bucket you just created, run the below code block. Of course, you could also clean up with the Agent by modifying the CrudControls accordingly. "
   ]
  },
  {
   "cell_type": "code",
   "execution_count": 11,
   "id": "1b4ce50e",
   "metadata": {},
   "outputs": [
    {
     "data": {
      "text/plain": [
       "{'ResponseMetadata': {'RequestId': 'N3T5XEASVGEB4R5T',\n",
       "  'HostId': 'gvN7+feJ9DIIMXUudl6jdQFdPkDX7iTYc4uVI038Jn+PRXy4A/zgTpnXhp9TB5Pyr1Dzhsj/5aQ=',\n",
       "  'HTTPStatusCode': 204,\n",
       "  'HTTPHeaders': {'x-amz-id-2': 'gvN7+feJ9DIIMXUudl6jdQFdPkDX7iTYc4uVI038Jn+PRXy4A/zgTpnXhp9TB5Pyr1Dzhsj/5aQ=',\n",
       "   'x-amz-request-id': 'N3T5XEASVGEB4R5T',\n",
       "   'date': 'Tue, 14 May 2024 15:22:43 GMT',\n",
       "   'server': 'AmazonS3'},\n",
       "  'RetryAttempts': 0}}"
      ]
     },
     "execution_count": 11,
     "metadata": {},
     "output_type": "execute_result"
    }
   ],
   "source": [
    "s3.delete_bucket(Bucket=f\"my-test-bucket-{rand}\")"
   ]
  }
 ],
 "metadata": {
  "kernelspec": {
   "display_name": "Python 3 (ipykernel)",
   "language": "python",
   "name": "python3"
  },
  "language_info": {
   "codemirror_mode": {
    "name": "ipython",
    "version": 3
   },
   "file_extension": ".py",
   "mimetype": "text/x-python",
   "name": "python",
   "nbconvert_exporter": "python",
   "pygments_lexer": "ipython3",
   "version": "3.11.4"
  }
 },
 "nbformat": 4,
 "nbformat_minor": 5
}
